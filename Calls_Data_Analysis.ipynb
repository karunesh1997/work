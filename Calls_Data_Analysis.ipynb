{
 "cells": [
  {
   "cell_type": "code",
   "execution_count": 2,
   "metadata": {},
   "outputs": [],
   "source": [
    "import numpy as np\n",
    "import scipy as sp\n",
    "import pandas as pd\n",
    "import matplotlib as mpl\n",
    "import seaborn as snsd\n"
   ]
  },
  {
   "cell_type": "code",
   "execution_count": 6,
   "metadata": {},
   "outputs": [],
   "source": [
    "import os"
   ]
  },
  {
   "cell_type": "code",
   "execution_count": 7,
   "metadata": {},
   "outputs": [
    {
     "data": {
      "text/plain": [
       "'C:\\\\Users\\\\Ratnesh'"
      ]
     },
     "execution_count": 7,
     "metadata": {},
     "output_type": "execute_result"
    }
   ],
   "source": [
    "os.getcwd()"
   ]
  },
  {
   "cell_type": "code",
   "execution_count": 8,
   "metadata": {},
   "outputs": [],
   "source": [
    "df=pd.read_csv('Daily_Calls.csv')"
   ]
  },
  {
   "cell_type": "code",
   "execution_count": 10,
   "metadata": {},
   "outputs": [
    {
     "data": {
      "text/plain": [
       "(1318, 8)"
      ]
     },
     "execution_count": 10,
     "metadata": {},
     "output_type": "execute_result"
    }
   ],
   "source": [
    "df.shape"
   ]
  },
  {
   "cell_type": "markdown",
   "metadata": {},
   "source": [
    "TOTAL NO OF CALLS = 1318"
   ]
  },
  {
   "cell_type": "code",
   "execution_count": 12,
   "metadata": {},
   "outputs": [
    {
     "name": "stdout",
     "output_type": "stream",
     "text": [
      "<class 'pandas.core.frame.DataFrame'>\n",
      "RangeIndex: 1318 entries, 0 to 1317\n",
      "Data columns (total 8 columns):\n",
      " #   Column                    Non-Null Count  Dtype  \n",
      "---  ------                    --------------  -----  \n",
      " 0   S.No                      1316 non-null   float64\n",
      " 1   Emp_id                    1314 non-null   float64\n",
      " 2   Emp name                  1318 non-null   object \n",
      " 3   Store Name                1317 non-null   object \n",
      " 4   Date                      1317 non-null   object \n",
      " 5   HQ                        1317 non-null   object \n",
      " 6   Agenda(Sales/Activation)  1314 non-null   object \n",
      " 7   Remarks                   1314 non-null   object \n",
      "dtypes: float64(2), object(6)\n",
      "memory usage: 82.5+ KB\n"
     ]
    }
   ],
   "source": [
    "df.info()"
   ]
  },
  {
   "cell_type": "code",
   "execution_count": 26,
   "metadata": {},
   "outputs": [
    {
     "data": {
      "text/plain": [
       "Emp_id                        15\n",
       "Emp name                      19\n",
       "Store Name                  1050\n",
       "Date                          19\n",
       "HQ                            44\n",
       "Agenda(Sales/Activation)       3\n",
       "Remarks                     1066\n",
       "dtype: int64"
      ]
     },
     "execution_count": 26,
     "metadata": {},
     "output_type": "execute_result"
    }
   ],
   "source": [
    "df.nunique()"
   ]
  },
  {
   "cell_type": "markdown",
   "metadata": {},
   "source": [
    "#TOTAL NO OF EMOLPYEES = 19\n",
    "TOTAL NO OF HQ = 44"
   ]
  },
  {
   "cell_type": "code",
   "execution_count": 11,
   "metadata": {},
   "outputs": [
    {
     "data": {
      "text/plain": [
       "Index(['S.No', 'Emp_id', 'Emp name', 'Store Name', 'Date', 'HQ',\n",
       "       'Agenda(Sales/Activation)', 'Remarks'],\n",
       "      dtype='object')"
      ]
     },
     "execution_count": 11,
     "metadata": {},
     "output_type": "execute_result"
    }
   ],
   "source": [
    "df.columns"
   ]
  },
  {
   "cell_type": "code",
   "execution_count": 13,
   "metadata": {},
   "outputs": [],
   "source": [
    "del df['S.No']"
   ]
  },
  {
   "cell_type": "code",
   "execution_count": 14,
   "metadata": {},
   "outputs": [
    {
     "data": {
      "text/plain": [
       "Index(['Emp_id', 'Emp name', 'Store Name', 'Date', 'HQ',\n",
       "       'Agenda(Sales/Activation)', 'Remarks'],\n",
       "      dtype='object')"
      ]
     },
     "execution_count": 14,
     "metadata": {},
     "output_type": "execute_result"
    }
   ],
   "source": [
    "df.columns"
   ]
  },
  {
   "cell_type": "code",
   "execution_count": 16,
   "metadata": {},
   "outputs": [
    {
     "name": "stderr",
     "output_type": "stream",
     "text": [
      "C:\\Users\\Ratnesh\\Anaconda3\\lib\\site-packages\\seaborn\\categorical.py:3666: UserWarning: The `factorplot` function has been renamed to `catplot`. The original name will be removed in a future release. Please update your code. Note that the default `kind` in `factorplot` (`'point'`) has changed `'strip'` in `catplot`.\n",
      "  warnings.warn(msg)\n"
     ]
    },
    {
     "data": {
      "text/plain": [
       "<seaborn.axisgrid.FacetGrid at 0xa3cbd2ada0>"
      ]
     },
     "execution_count": 16,
     "metadata": {},
     "output_type": "execute_result"
    },
    {
     "data": {
      "image/png": "[encoded data removed]",
      "text/plain": [
       "<Figure size 360x360 with 1 Axes>"
      ]
     },
     "metadata": {
      "needs_background": "light"
     },
     "output_type": "display_data"
    }
   ],
   "source": [
    "sns.factorplot('Emp name',data=df,kind='count')"
   ]
  },
  {
   "cell_type": "code",
   "execution_count": 28,
   "metadata": {},
   "outputs": [
    {
     "data": {
      "text/plain": [
       "Ashish Shrivastava        131\n",
       "Deepak Paliwal            116\n",
       "Mohd Afzal                112\n",
       "Abhishek Juneja           110\n",
       "Dushyant Singh            108\n",
       "HariOm Kumar Chaurasia    108\n",
       "Waseem Akram              102\n",
       "SHUJA ALI                  99\n",
       "puneet Bhardwaj            96\n",
       "Dhananjay verma            81\n",
       "Manish Bansal              75\n",
       "Pintu Kumar                74\n",
       "Ajay Singh                 35\n",
       "Shashwat Pathak            27\n",
       "Ajay singh                 12\n",
       "Mr.Ajay singh              11\n",
       "Vivek Jayant                8\n",
       "AJAY SINGH                  8\n",
       "abhishek juneja             5\n",
       "Name: Emp name, dtype: int64"
      ]
     },
     "execution_count": 28,
     "metadata": {},
     "output_type": "execute_result"
    }
   ],
   "source": [
    "df['Emp name'].value_counts()"
   ]
  },
  {
   "cell_type": "markdown",
   "metadata": {},
   "source": [
    "HERE WE CAN SEE TOTAL CALL ATTEND BY EACH EMPLOYEE(uNIQUE CALLS)"
   ]
  },
  {
   "cell_type": "code",
   "execution_count": 30,
   "metadata": {},
   "outputs": [
    {
     "data": {
      "text/html": [
       "<div>\n",
       "<style scoped>\n",
       "    .dataframe tbody tr th:only-of-type {\n",
       "        vertical-align: middle;\n",
       "    }\n",
       "\n",
       "    .dataframe tbody tr th {\n",
       "        vertical-align: top;\n",
       "    }\n",
       "\n",
       "    .dataframe thead th {\n",
       "        text-align: right;\n",
       "    }\n",
       "</style>\n",
       "<table border=\"1\" class=\"dataframe\">\n",
       "  <thead>\n",
       "    <tr style=\"text-align: right;\">\n",
       "      <th></th>\n",
       "      <th>Emp_id</th>\n",
       "      <th>Emp name</th>\n",
       "      <th>Store Name</th>\n",
       "      <th>Date</th>\n",
       "      <th>HQ</th>\n",
       "      <th>Agenda(Sales/Activation)</th>\n",
       "      <th>Remarks</th>\n",
       "      <th>indexes</th>\n",
       "    </tr>\n",
       "  </thead>\n",
       "  <tbody>\n",
       "    <tr>\n",
       "      <th>0</th>\n",
       "      <td>1.0</td>\n",
       "      <td>Manish Bansal</td>\n",
       "      <td>Gupta</td>\n",
       "      <td>1/7/2021</td>\n",
       "      <td>Ambala</td>\n",
       "      <td>Sales</td>\n",
       "      <td>BILLED 1200 , DONE</td>\n",
       "      <td>-1.0</td>\n",
       "    </tr>\n",
       "    <tr>\n",
       "      <th>1</th>\n",
       "      <td>1.0</td>\n",
       "      <td>Manish Bansal</td>\n",
       "      <td>Family</td>\n",
       "      <td>1/7/2021</td>\n",
       "      <td>Ambala</td>\n",
       "      <td>Sales</td>\n",
       "      <td>PAYMENT PENDING</td>\n",
       "      <td>-1.0</td>\n",
       "    </tr>\n",
       "    <tr>\n",
       "      <th>2</th>\n",
       "      <td>1.0</td>\n",
       "      <td>Manish Bansal</td>\n",
       "      <td>Gurjot</td>\n",
       "      <td>1/7/2021</td>\n",
       "      <td>Ambala</td>\n",
       "      <td>Sales</td>\n",
       "      <td>BILLED 1600 , DONE</td>\n",
       "      <td>-1.0</td>\n",
       "    </tr>\n",
       "    <tr>\n",
       "      <th>3</th>\n",
       "      <td>1.0</td>\n",
       "      <td>Manish Bansal</td>\n",
       "      <td>Kaushik</td>\n",
       "      <td>1/7/2021</td>\n",
       "      <td>Ambala</td>\n",
       "      <td>Sales</td>\n",
       "      <td>NEXT WEEK ORDER</td>\n",
       "      <td>-1.0</td>\n",
       "    </tr>\n",
       "    <tr>\n",
       "      <th>4</th>\n",
       "      <td>2.0</td>\n",
       "      <td>Mohd Afzal</td>\n",
       "      <td>Vashnavi pharma</td>\n",
       "      <td>1/7/2021</td>\n",
       "      <td>Lucknow</td>\n",
       "      <td>Sales</td>\n",
       "      <td>Order payment done</td>\n",
       "      <td>-1.0</td>\n",
       "    </tr>\n",
       "    <tr>\n",
       "      <th>...</th>\n",
       "      <td>...</td>\n",
       "      <td>...</td>\n",
       "      <td>...</td>\n",
       "      <td>...</td>\n",
       "      <td>...</td>\n",
       "      <td>...</td>\n",
       "      <td>...</td>\n",
       "      <td>...</td>\n",
       "    </tr>\n",
       "    <tr>\n",
       "      <th>1313</th>\n",
       "      <td>13.0</td>\n",
       "      <td>puneet Bhardwaj</td>\n",
       "      <td>Mukesh Medical</td>\n",
       "      <td>22-07-2021</td>\n",
       "      <td>jaipur</td>\n",
       "      <td>Activation</td>\n",
       "      <td>Interested but not now</td>\n",
       "      <td>-1.0</td>\n",
       "    </tr>\n",
       "    <tr>\n",
       "      <th>1314</th>\n",
       "      <td>NaN</td>\n",
       "      <td>puneet Bhardwaj</td>\n",
       "      <td>Sai Medical</td>\n",
       "      <td>22-07-2021</td>\n",
       "      <td>jaipur</td>\n",
       "      <td>NaN</td>\n",
       "      <td>NaN</td>\n",
       "      <td>NaN</td>\n",
       "    </tr>\n",
       "    <tr>\n",
       "      <th>1315</th>\n",
       "      <td>NaN</td>\n",
       "      <td>puneet Bhardwaj</td>\n",
       "      <td>Shree dev Medical</td>\n",
       "      <td>22-07-2021</td>\n",
       "      <td>jaipur</td>\n",
       "      <td>NaN</td>\n",
       "      <td>NaN</td>\n",
       "      <td>NaN</td>\n",
       "    </tr>\n",
       "    <tr>\n",
       "      <th>1316</th>\n",
       "      <td>NaN</td>\n",
       "      <td>puneet Bhardwaj</td>\n",
       "      <td>Mahavir Medical</td>\n",
       "      <td>22-07-2021</td>\n",
       "      <td>jaipur</td>\n",
       "      <td>NaN</td>\n",
       "      <td>NaN</td>\n",
       "      <td>NaN</td>\n",
       "    </tr>\n",
       "    <tr>\n",
       "      <th>1317</th>\n",
       "      <td>NaN</td>\n",
       "      <td>puneet Bhardwaj</td>\n",
       "      <td>NaN</td>\n",
       "      <td>NaN</td>\n",
       "      <td>NaN</td>\n",
       "      <td>NaN</td>\n",
       "      <td>NaN</td>\n",
       "      <td>NaN</td>\n",
       "    </tr>\n",
       "  </tbody>\n",
       "</table>\n",
       "<p>1318 rows × 8 columns</p>\n",
       "</div>"
      ],
      "text/plain": [
       "      Emp_id         Emp name         Store Name        Date       HQ  \\\n",
       "0        1.0    Manish Bansal              Gupta    1/7/2021   Ambala   \n",
       "1        1.0    Manish Bansal             Family    1/7/2021   Ambala   \n",
       "2        1.0    Manish Bansal             Gurjot    1/7/2021   Ambala   \n",
       "3        1.0    Manish Bansal            Kaushik    1/7/2021   Ambala   \n",
       "4        2.0       Mohd Afzal    Vashnavi pharma    1/7/2021  Lucknow   \n",
       "...      ...              ...                ...         ...      ...   \n",
       "1313    13.0  puneet Bhardwaj     Mukesh Medical  22-07-2021   jaipur   \n",
       "1314     NaN  puneet Bhardwaj        Sai Medical  22-07-2021   jaipur   \n",
       "1315     NaN  puneet Bhardwaj  Shree dev Medical  22-07-2021   jaipur   \n",
       "1316     NaN  puneet Bhardwaj    Mahavir Medical  22-07-2021   jaipur   \n",
       "1317     NaN  puneet Bhardwaj                NaN         NaN      NaN   \n",
       "\n",
       "     Agenda(Sales/Activation)                 Remarks  indexes  \n",
       "0                       Sales      BILLED 1200 , DONE     -1.0  \n",
       "1                       Sales         PAYMENT PENDING     -1.0  \n",
       "2                       Sales      BILLED 1600 , DONE     -1.0  \n",
       "3                       Sales         NEXT WEEK ORDER     -1.0  \n",
       "4                       Sales      Order payment done     -1.0  \n",
       "...                       ...                     ...      ...  \n",
       "1313               Activation  Interested but not now     -1.0  \n",
       "1314                      NaN                     NaN      NaN  \n",
       "1315                      NaN                     NaN      NaN  \n",
       "1316                      NaN                     NaN      NaN  \n",
       "1317                      NaN                     NaN      NaN  \n",
       "\n",
       "[1318 rows x 8 columns]"
      ]
     },
     "execution_count": 30,
     "metadata": {},
     "output_type": "execute_result"
    }
   ],
   "source": [
    "sub='ZLP'\n",
    "df[\"indexes\"]=df[\"Remarks\"].str.find(sub)\n",
    "df"
   ]
  },
  {
   "cell_type": "code",
   "execution_count": 33,
   "metadata": {},
   "outputs": [
    {
     "data": {
      "text/html": [
       "<div>\n",
       "<style scoped>\n",
       "    .dataframe tbody tr th:only-of-type {\n",
       "        vertical-align: middle;\n",
       "    }\n",
       "\n",
       "    .dataframe tbody tr th {\n",
       "        vertical-align: top;\n",
       "    }\n",
       "\n",
       "    .dataframe thead th {\n",
       "        text-align: right;\n",
       "    }\n",
       "</style>\n",
       "<table border=\"1\" class=\"dataframe\">\n",
       "  <thead>\n",
       "    <tr style=\"text-align: right;\">\n",
       "      <th></th>\n",
       "      <th>Emp_id</th>\n",
       "      <th>Emp name</th>\n",
       "      <th>Store Name</th>\n",
       "      <th>Date</th>\n",
       "      <th>HQ</th>\n",
       "      <th>Agenda(Sales/Activation)</th>\n",
       "      <th>Remarks</th>\n",
       "      <th>indexes</th>\n",
       "    </tr>\n",
       "  </thead>\n",
       "  <tbody>\n",
       "    <tr>\n",
       "      <th>503</th>\n",
       "      <td>10.0</td>\n",
       "      <td>SHUJA ALI</td>\n",
       "      <td>Bhagwati Medical</td>\n",
       "      <td>12/7/2021</td>\n",
       "      <td>Mumbai</td>\n",
       "      <td>Sales</td>\n",
       "      <td>He has convinced to take our ZLP as franchise ...</td>\n",
       "      <td>29.0</td>\n",
       "    </tr>\n",
       "    <tr>\n",
       "      <th>506</th>\n",
       "      <td>10.0</td>\n",
       "      <td>Dushyant Singh</td>\n",
       "      <td>Raju medical store</td>\n",
       "      <td>12/7/2021</td>\n",
       "      <td>Aligarh</td>\n",
       "      <td>Activation</td>\n",
       "      <td>Party said Mrp is increasing in ZLP... like As...</td>\n",
       "      <td>32.0</td>\n",
       "    </tr>\n",
       "    <tr>\n",
       "      <th>512</th>\n",
       "      <td>2.0</td>\n",
       "      <td>Mohd Afzal</td>\n",
       "      <td>Kamala Medical store</td>\n",
       "      <td>12/7/2021</td>\n",
       "      <td>Lucknow</td>\n",
       "      <td>Sales</td>\n",
       "      <td>Hotlead will take time for feedback from ZLP</td>\n",
       "      <td>41.0</td>\n",
       "    </tr>\n",
       "    <tr>\n",
       "      <th>617</th>\n",
       "      <td>10.0</td>\n",
       "      <td>Dhananjay verma</td>\n",
       "      <td>Baba deep singh medical store</td>\n",
       "      <td>13-07-2021</td>\n",
       "      <td>Abohar</td>\n",
       "      <td>Sales</td>\n",
       "      <td>He has convinced to take our ZLP as franchise ...</td>\n",
       "      <td>29.0</td>\n",
       "    </tr>\n",
       "    <tr>\n",
       "      <th>1195</th>\n",
       "      <td>10.0</td>\n",
       "      <td>Ajay Singh</td>\n",
       "      <td>PMJAK Ghurahupatti</td>\n",
       "      <td>21-07-2021</td>\n",
       "      <td>Mirzapur</td>\n",
       "      <td>Activation</td>\n",
       "      <td>Asked for documents for our ZLP.</td>\n",
       "      <td>28.0</td>\n",
       "    </tr>\n",
       "    <tr>\n",
       "      <th>1292</th>\n",
       "      <td>10.0</td>\n",
       "      <td>Waseem Akram</td>\n",
       "      <td>PM Mawana 2</td>\n",
       "      <td>22-07-2021</td>\n",
       "      <td>Meerut</td>\n",
       "      <td>Activation</td>\n",
       "      <td>Asked for documents for our ZLP. He will ready...</td>\n",
       "      <td>28.0</td>\n",
       "    </tr>\n",
       "  </tbody>\n",
       "</table>\n",
       "</div>"
      ],
      "text/plain": [
       "      Emp_id         Emp name                     Store Name        Date  \\\n",
       "503     10.0        SHUJA ALI               Bhagwati Medical   12/7/2021   \n",
       "506     10.0   Dushyant Singh             Raju medical store   12/7/2021   \n",
       "512      2.0       Mohd Afzal           Kamala Medical store   12/7/2021   \n",
       "617     10.0  Dhananjay verma  Baba deep singh medical store  13-07-2021   \n",
       "1195    10.0       Ajay Singh             PMJAK Ghurahupatti  21-07-2021   \n",
       "1292    10.0     Waseem Akram                    PM Mawana 2  22-07-2021   \n",
       "\n",
       "            HQ Agenda(Sales/Activation)  \\\n",
       "503     Mumbai                    Sales   \n",
       "506    Aligarh               Activation   \n",
       "512    Lucknow                    Sales   \n",
       "617     Abohar                    Sales   \n",
       "1195  Mirzapur               Activation   \n",
       "1292    Meerut               Activation   \n",
       "\n",
       "                                                Remarks  indexes  \n",
       "503   He has convinced to take our ZLP as franchise ...     29.0  \n",
       "506   Party said Mrp is increasing in ZLP... like As...     32.0  \n",
       "512        Hotlead will take time for feedback from ZLP     41.0  \n",
       "617   He has convinced to take our ZLP as franchise ...     29.0  \n",
       "1195                   Asked for documents for our ZLP.     28.0  \n",
       "1292  Asked for documents for our ZLP. He will ready...     28.0  "
      ]
     },
     "execution_count": 33,
     "metadata": {},
     "output_type": "execute_result"
    }
   ],
   "source": [
    "new_df=df[df['Remarks'].str.contains('ZLP',na=False)]\n",
    "new_df"
   ]
  },
  {
   "cell_type": "code",
   "execution_count": 35,
   "metadata": {},
   "outputs": [
    {
     "data": {
      "text/plain": [
       "(6, 8)"
      ]
     },
     "execution_count": 35,
     "metadata": {},
     "output_type": "execute_result"
    }
   ],
   "source": [
    "new_df.shape"
   ]
  },
  {
   "cell_type": "markdown",
   "metadata": {},
   "source": [
    "TOTAL NO OF ZLP franchisee calls = 6"
   ]
  },
  {
   "cell_type": "code",
   "execution_count": 37,
   "metadata": {},
   "outputs": [
    {
     "data": {
      "text/plain": [
       "Waseem Akram       1\n",
       "Dhananjay verma    1\n",
       "SHUJA ALI          1\n",
       "Ajay Singh         1\n",
       "Dushyant Singh     1\n",
       "Mohd Afzal         1\n",
       "Name: Emp name, dtype: int64"
      ]
     },
     "execution_count": 37,
     "metadata": {},
     "output_type": "execute_result"
    }
   ],
   "source": [
    "new_df['Emp name'].value_counts()"
   ]
  },
  {
   "cell_type": "markdown",
   "metadata": {},
   "source": [
    "These are total unique ZLP calls"
   ]
  },
  {
   "cell_type": "code",
   "execution_count": 38,
   "metadata": {},
   "outputs": [
    {
     "data": {
      "text/plain": [
       "Sales         758\n",
       "Activation    555\n",
       "Sale            1\n",
       "Name: Agenda(Sales/Activation), dtype: int64"
      ]
     },
     "execution_count": 38,
     "metadata": {},
     "output_type": "execute_result"
    }
   ],
   "source": [
    "df['Agenda(Sales/Activation)'].value_counts()"
   ]
  },
  {
   "cell_type": "markdown",
   "metadata": {},
   "source": [
    "# Total no of activation calls = 555"
   ]
  },
  {
   "cell_type": "code",
   "execution_count": 39,
   "metadata": {},
   "outputs": [
    {
     "data": {
      "text/html": [
       "<div>\n",
       "<style scoped>\n",
       "    .dataframe tbody tr th:only-of-type {\n",
       "        vertical-align: middle;\n",
       "    }\n",
       "\n",
       "    .dataframe tbody tr th {\n",
       "        vertical-align: top;\n",
       "    }\n",
       "\n",
       "    .dataframe thead th {\n",
       "        text-align: right;\n",
       "    }\n",
       "</style>\n",
       "<table border=\"1\" class=\"dataframe\">\n",
       "  <thead>\n",
       "    <tr style=\"text-align: right;\">\n",
       "      <th></th>\n",
       "      <th>Emp_id</th>\n",
       "      <th>Emp name</th>\n",
       "      <th>Store Name</th>\n",
       "      <th>Date</th>\n",
       "      <th>HQ</th>\n",
       "      <th>Agenda(Sales/Activation)</th>\n",
       "      <th>Remarks</th>\n",
       "      <th>indexes</th>\n",
       "    </tr>\n",
       "  </thead>\n",
       "  <tbody>\n",
       "    <tr>\n",
       "      <th>6</th>\n",
       "      <td>2.0</td>\n",
       "      <td>Mohd Afzal</td>\n",
       "      <td>Hindustan Medical store</td>\n",
       "      <td>1/7/2021</td>\n",
       "      <td>Lucknow</td>\n",
       "      <td>Activation</td>\n",
       "      <td>Gen calls</td>\n",
       "      <td>-1.0</td>\n",
       "    </tr>\n",
       "    <tr>\n",
       "      <th>9</th>\n",
       "      <td>2.0</td>\n",
       "      <td>Mohd Afzal</td>\n",
       "      <td>Radhay Medical Store</td>\n",
       "      <td>1/7/2021</td>\n",
       "      <td>Lucknow</td>\n",
       "      <td>Activation</td>\n",
       "      <td>Interested for franchise on 6july will be confirm</td>\n",
       "      <td>-1.0</td>\n",
       "    </tr>\n",
       "    <tr>\n",
       "      <th>18</th>\n",
       "      <td>3.0</td>\n",
       "      <td>SHUJA ALI</td>\n",
       "      <td>Shubham Medical</td>\n",
       "      <td>1/7/2021</td>\n",
       "      <td>Mumbai</td>\n",
       "      <td>Activation</td>\n",
       "      <td>met for new Activation but owner not available.</td>\n",
       "      <td>-1.0</td>\n",
       "    </tr>\n",
       "    <tr>\n",
       "      <th>19</th>\n",
       "      <td>3.0</td>\n",
       "      <td>SHUJA ALI</td>\n",
       "      <td>Laxmi Medical</td>\n",
       "      <td>1/7/2021</td>\n",
       "      <td>Mumbai</td>\n",
       "      <td>Activation</td>\n",
       "      <td>met for new Activation but party has taken tim...</td>\n",
       "      <td>-1.0</td>\n",
       "    </tr>\n",
       "    <tr>\n",
       "      <th>20</th>\n",
       "      <td>4.0</td>\n",
       "      <td>Abhishek Juneja</td>\n",
       "      <td>vishwakarma medical</td>\n",
       "      <td>1/7/2021</td>\n",
       "      <td>Patna</td>\n",
       "      <td>Activation</td>\n",
       "      <td>for business opportunities</td>\n",
       "      <td>-1.0</td>\n",
       "    </tr>\n",
       "    <tr>\n",
       "      <th>...</th>\n",
       "      <td>...</td>\n",
       "      <td>...</td>\n",
       "      <td>...</td>\n",
       "      <td>...</td>\n",
       "      <td>...</td>\n",
       "      <td>...</td>\n",
       "      <td>...</td>\n",
       "      <td>...</td>\n",
       "    </tr>\n",
       "    <tr>\n",
       "      <th>1309</th>\n",
       "      <td>13.0</td>\n",
       "      <td>Abhishek Juneja</td>\n",
       "      <td>Maa tara medical</td>\n",
       "      <td>22-07-2021</td>\n",
       "      <td>Patna</td>\n",
       "      <td>Activation</td>\n",
       "      <td>Hot lead want some time give time for next visit</td>\n",
       "      <td>-1.0</td>\n",
       "    </tr>\n",
       "    <tr>\n",
       "      <th>1310</th>\n",
       "      <td>13.0</td>\n",
       "      <td>Abhishek Juneja</td>\n",
       "      <td>Apna aushadhi Bhilwara</td>\n",
       "      <td>22-07-2021</td>\n",
       "      <td>jaipur</td>\n",
       "      <td>Activation</td>\n",
       "      <td>Hot lead want more time</td>\n",
       "      <td>-1.0</td>\n",
       "    </tr>\n",
       "    <tr>\n",
       "      <th>1311</th>\n",
       "      <td>13.0</td>\n",
       "      <td>puneet Bhardwaj</td>\n",
       "      <td>Charbhuja Medical bilada</td>\n",
       "      <td>22-07-2021</td>\n",
       "      <td>jaipur</td>\n",
       "      <td>Activation</td>\n",
       "      <td>Interested but not now</td>\n",
       "      <td>-1.0</td>\n",
       "    </tr>\n",
       "    <tr>\n",
       "      <th>1312</th>\n",
       "      <td>13.0</td>\n",
       "      <td>puneet Bhardwaj</td>\n",
       "      <td>Sarkar Medicals</td>\n",
       "      <td>22-07-2021</td>\n",
       "      <td>jaipur</td>\n",
       "      <td>Activation</td>\n",
       "      <td>Fresh call</td>\n",
       "      <td>-1.0</td>\n",
       "    </tr>\n",
       "    <tr>\n",
       "      <th>1313</th>\n",
       "      <td>13.0</td>\n",
       "      <td>puneet Bhardwaj</td>\n",
       "      <td>Mukesh Medical</td>\n",
       "      <td>22-07-2021</td>\n",
       "      <td>jaipur</td>\n",
       "      <td>Activation</td>\n",
       "      <td>Interested but not now</td>\n",
       "      <td>-1.0</td>\n",
       "    </tr>\n",
       "  </tbody>\n",
       "</table>\n",
       "<p>555 rows × 8 columns</p>\n",
       "</div>"
      ],
      "text/plain": [
       "      Emp_id         Emp name                Store Name        Date       HQ  \\\n",
       "6        2.0       Mohd Afzal   Hindustan Medical store    1/7/2021  Lucknow   \n",
       "9        2.0       Mohd Afzal      Radhay Medical Store    1/7/2021  Lucknow   \n",
       "18       3.0        SHUJA ALI           Shubham Medical    1/7/2021   Mumbai   \n",
       "19       3.0        SHUJA ALI             Laxmi Medical    1/7/2021   Mumbai   \n",
       "20       4.0  Abhishek Juneja       vishwakarma medical    1/7/2021    Patna   \n",
       "...      ...              ...                       ...         ...      ...   \n",
       "1309    13.0  Abhishek Juneja          Maa tara medical  22-07-2021    Patna   \n",
       "1310    13.0  Abhishek Juneja    Apna aushadhi Bhilwara  22-07-2021   jaipur   \n",
       "1311    13.0  puneet Bhardwaj  Charbhuja Medical bilada  22-07-2021   jaipur   \n",
       "1312    13.0  puneet Bhardwaj           Sarkar Medicals  22-07-2021   jaipur   \n",
       "1313    13.0  puneet Bhardwaj            Mukesh Medical  22-07-2021   jaipur   \n",
       "\n",
       "     Agenda(Sales/Activation)  \\\n",
       "6                  Activation   \n",
       "9                  Activation   \n",
       "18                 Activation   \n",
       "19                 Activation   \n",
       "20                 Activation   \n",
       "...                       ...   \n",
       "1309               Activation   \n",
       "1310               Activation   \n",
       "1311               Activation   \n",
       "1312               Activation   \n",
       "1313               Activation   \n",
       "\n",
       "                                                Remarks  indexes  \n",
       "6                                             Gen calls     -1.0  \n",
       "9     Interested for franchise on 6july will be confirm     -1.0  \n",
       "18      met for new Activation but owner not available.     -1.0  \n",
       "19    met for new Activation but party has taken tim...     -1.0  \n",
       "20                           for business opportunities     -1.0  \n",
       "...                                                 ...      ...  \n",
       "1309   Hot lead want some time give time for next visit     -1.0  \n",
       "1310                            Hot lead want more time     -1.0  \n",
       "1311                             Interested but not now     -1.0  \n",
       "1312                                         Fresh call     -1.0  \n",
       "1313                             Interested but not now     -1.0  \n",
       "\n",
       "[555 rows x 8 columns]"
      ]
     },
     "execution_count": 39,
     "metadata": {},
     "output_type": "execute_result"
    }
   ],
   "source": [
    "Activation=df[df['Agenda(Sales/Activation)'].str.contains('Activation',na=False)]\n",
    "Activation"
   ]
  },
  {
   "cell_type": "code",
   "execution_count": 40,
   "metadata": {},
   "outputs": [
    {
     "data": {
      "text/plain": [
       "HariOm Kumar Chaurasia    67\n",
       "Abhishek Juneja           62\n",
       "Ashish Shrivastava        60\n",
       "Deepak Paliwal            49\n",
       "puneet Bhardwaj           46\n",
       "Mohd Afzal                41\n",
       "SHUJA ALI                 41\n",
       "Waseem Akram              34\n",
       "Dushyant Singh            34\n",
       "Dhananjay verma           27\n",
       "Pintu Kumar               25\n",
       "Ajay Singh                22\n",
       "Shashwat Pathak           11\n",
       "Ajay singh                10\n",
       "Mr.Ajay singh              8\n",
       "Manish Bansal              8\n",
       "AJAY SINGH                 6\n",
       "Vivek Jayant               2\n",
       "abhishek juneja            2\n",
       "Name: Emp name, dtype: int64"
      ]
     },
     "execution_count": 40,
     "metadata": {},
     "output_type": "execute_result"
    }
   ],
   "source": [
    "Activation['Emp name'].value_counts()"
   ]
  },
  {
   "cell_type": "markdown",
   "metadata": {},
   "source": [
    "# These are the total  activation unique calls "
   ]
  },
  {
   "cell_type": "code",
   "execution_count": null,
   "metadata": {},
   "outputs": [],
   "source": []
  }
 ],
 "metadata": {
  "kernelspec": {
   "display_name": "Python 3",
   "language": "python",
   "name": "python3"
  },
  "language_info": {
   "codemirror_mode": {
    "name": "ipython",
    "version": 3
   },
   "file_extension": ".py",
   "mimetype": "text/x-python",
   "name": "python",
   "nbconvert_exporter": "python",
   "pygments_lexer": "ipython3",
   "version": "3.7.3"
  }
 },
 "nbformat": 4,
 "nbformat_minor": 2
}
